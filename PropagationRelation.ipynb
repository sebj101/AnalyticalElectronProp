{
 "cells": [
  {
   "cell_type": "markdown",
   "metadata": {},
   "source": [
    "# Propagation Relation\n",
    "S. Jones 09/07/24\n",
    "\n",
    "Notebook designed to look at if we can extract an analytical form that can be used to quickly calculate retarded times."
   ]
  },
  {
   "cell_type": "code",
   "execution_count": null,
   "metadata": {},
   "outputs": [],
   "source": [
    "# Some standard imports\n",
    "import src.QTNMTraps as traps\n",
    "import src.Particle as part\n",
    "import numpy as np\n",
    "import matplotlib.pyplot as plt\n",
    "import scipy.constants as sc\n",
    "from scipy.optimize import curve_fit"
   ]
  },
  {
   "cell_type": "code",
   "execution_count": null,
   "metadata": {},
   "outputs": [],
   "source": [
    "# Use Latex in figure text\n",
    "plt.rc('text', usetex=True)\n",
    "plt.rc('font', family='serif')\n",
    "# Make labels bigger\n",
    "plt.rcParams.update({'font.size': 12})"
   ]
  },
  {
   "cell_type": "markdown",
   "metadata": {},
   "source": [
    "## Harmonic trap\n",
    "Initially look at the propagation time in a harmonic trap. We are interested in the relationship between the emission time, $t_{\\text{emit}}$, and reception time, $t_{\\text{receive}}$."
   ]
  },
  {
   "cell_type": "code",
   "execution_count": null,
   "metadata": {},
   "outputs": [],
   "source": [
    "# Define a harmonic trap\n",
    "B0 = 1.0  # T\n",
    "L0 = 0.2  # m\n",
    "# Define trap\n",
    "harmonicTrap = traps.HarmonicTrap(B0, L0)"
   ]
  },
  {
   "cell_type": "code",
   "execution_count": null,
   "metadata": {},
   "outputs": [],
   "source": [
    "# Define a receiver position\n",
    "zR = -0.05  # metres\n",
    "receiverPosition = np.array([0.0, 0.0, zR])\n",
    "pitchAngleInit = 87.0 * np.pi / 180.0\n",
    "\n",
    "# Define electron\n",
    "eKE = 18.575e3  # eV\n",
    "startPos = np.array([1e-5, 0.0, 0.0])\n",
    "electron = part.Particle(eKE, np.array([1e-5, 0.0, 0.0]),\n",
    "                         pitchAngle=pitchAngleInit)"
   ]
  },
  {
   "cell_type": "code",
   "execution_count": null,
   "metadata": {},
   "outputs": [],
   "source": [
    "# Get the electron position as a function of time\n",
    "tObs = 0.1e-6  # seconds\n",
    "samplePeriod = 5e-10  # seconds\n",
    "timeArray = np.arange(0, tObs, samplePeriod)\n",
    "electronZPos = harmonicTrap.GetZPosTime(timeArray, electron.GetSpeed(),\n",
    "                                        pitchAngleInit)\n",
    "# For each point, calculate the signal arrival time\n",
    "arrivalTimes = timeArray + abs(zR - electronZPos) / sc.c\n",
    "\n",
    "# Define a shifted sine wave to fit to the above relationship\n",
    "def ShiftedSine(x, A, omega, phi, yOffset):\n",
    "    return A * np.sin(omega * x + phi) + yOffset"
   ]
  },
  {
   "cell_type": "code",
   "execution_count": null,
   "metadata": {},
   "outputs": [],
   "source": [
    "plt.figure()\n",
    "plt.plot(arrivalTimes * 1e6, (arrivalTimes - timeArray) * 1e9, 'o')\n",
    "plt.title(\"Harmonic trap\")\n",
    "plt.xlabel(\"$t_{receiver}$ [$\\mu$s]\")\n",
    "plt.ylabel(\"$t_{receiver} - t_{emission}$ [ns]\")\n",
    "\n",
    "# Now fit the sine wave to the data\n",
    "popt, pcov = curve_fit(ShiftedSine, arrivalTimes, arrivalTimes - timeArray,\n",
    "                       p0=[0.01e-9, 2 * np.pi * 60e6, 0.0, 0.165e-9])\n",
    "# Draw the fit\n",
    "fitTimes = ShiftedSine(arrivalTimes, *popt)\n",
    "plt.plot(arrivalTimes * 1e6, fitTimes * 1e9, 'r--')\n",
    "plt.show()"
   ]
  },
  {
   "cell_type": "markdown",
   "metadata": {},
   "source": [
    "We can actually try and compare some of the fit parameters with our guesses from where they come from."
   ]
  },
  {
   "cell_type": "code",
   "execution_count": null,
   "metadata": {},
   "outputs": [],
   "source": [
    "# Compare parameters with calculated values\n",
    "omega_a = harmonicTrap.CalcOmegaAxial(pitchAngleInit, electron.GetSpeed())\n",
    "print(f\"Calculated Omega_a vs. omega fit value: {omega_a:.3e} vs. {popt[1]:.3e}\")\n",
    "offsetCalc = abs(zR) / sc.c\n",
    "print(f\"Calculated offset vs. yOffset fit value: {offsetCalc:.3e} vs. {popt[3]:.3e}\")\n",
    "amplitudeCalc = harmonicTrap.CalcZMax(pitchAngleInit) / sc.c\n",
    "print(\n",
    "    f\"Calculated amplitude vs. amplitude fit value: {amplitudeCalc:.3e} vs. {popt[0]:.3e}\")"
   ]
  },
  {
   "cell_type": "markdown",
   "metadata": {},
   "source": [
    "### Moving the receiver point\n",
    "Now, look at what happens if we move the receiver point in an arc."
   ]
  },
  {
   "cell_type": "code",
   "execution_count": null,
   "metadata": {},
   "outputs": [],
   "source": [
    "receiverAngles = np.linspace(0, np.pi / 2, 6)\n",
    "electronPosTime = np.array([np.zeros_like(electronZPos), \n",
    "                            np.zeros_like(electronZPos), electronZPos])\n",
    "\n",
    "plt.figure(figsize=(18, 10))\n",
    "for iAng, ang in enumerate(receiverAngles):\n",
    "  rAngPosition = zR * np.array([np.sin(ang), 0.0, np.cos(ang)])\n",
    "  aTimesAng = np.zeros_like(timeArray)\n",
    "  for it, t in enumerate(timeArray):\n",
    "    electronPos = np.array([0, 0, harmonicTrap.GetZPosTime(t, electron.GetSpeed(), pitchAngleInit)])\n",
    "    aTimesAng[it] = t + np.linalg.norm(rAngPosition - electronPos) / sc.c\n",
    "\n",
    "  plt.subplot(2, 3, iAng + 1)\n",
    "  plt.plot(aTimesAng * 1e6, (aTimesAng - timeArray) * 1e9, 'o',\n",
    "           label=f\"{ang * 180 / np.pi:.1f} deg\")\n",
    "  plt.title(f\"Harmonic trap: $\\\\theta_r = {ang * 180 / np.pi:.1f}^\\circ$\")\n",
    "  plt.xlabel(\"$t_{receive}$ [$\\mu$s]\")\n",
    "  plt.ylabel(\"$t_{receive} - t_{emit}$ [ns]\")\n",
    "\n",
    "  # Now fit the sine wave to the data\n",
    "  omegaGuess = harmonicTrap.CalcOmegaAxial(pitchAngleInit, electron.GetSpeed())\n",
    "  if ang == np.pi / 2:\n",
    "    omegaGuess = 2 * harmonicTrap.CalcOmegaAxial(pitchAngleInit, electron.GetSpeed()) \n",
    "\n",
    "  popt, pcov = curve_fit(ShiftedSine, aTimesAng, aTimesAng - timeArray,\n",
    "                         p0=[0.07e-9, omegaGuess, 0.0, \n",
    "                         np.linalg.norm(rAngPosition) / sc.c])\n",
    "\n",
    "  # Draw the fit\n",
    "  fitTimes = ShiftedSine(aTimesAng, *popt)\n",
    "  plt.plot(aTimesAng * 1e6, fitTimes * 1e9, 'r--')\n",
    "  # Draw the fit parameters on each plote\n",
    "  plt.ylim(0.13, 0.24)\n",
    "  plt.text(0.0, 0.23, f\"$A = {popt[0]:.3e}$\")\n",
    "  plt.text(0.05, 0.23, f\"$\\omega = {popt[1]:.3e}$\")\n",
    "  plt.text(0.0, 0.22, f\"$\\phi = {popt[2]:.3e}$\")\n",
    "  plt.text(0.05, 0.22, f\"$y_0 = {popt[3]:.3e}$\")\n",
    "\n",
    "plt.show()"
   ]
  },
  {
   "cell_type": "markdown",
   "metadata": {},
   "source": [
    "## Bathtub trap\n",
    "Now look at generating a bathtub trap."
   ]
  },
  {
   "cell_type": "code",
   "execution_count": null,
   "metadata": {},
   "outputs": [],
   "source": [
    "# Reposition the receiver\n",
    "zR = -0.1  # metres\n",
    "\n",
    "# Define trap\n",
    "L0_bt = 0.35    # m\n",
    "L1_bt = 5e-2  # m\n",
    "B0_bt = 1.0     # T\n",
    "bathtubTrap = traps.BathtubTrap(B0_bt, L0_bt, L1_bt)\n",
    "\n",
    "tObs = 0.5e-6  # seconds\n",
    "timeArray = np.arange(0, tObs, samplePeriod)\n",
    "electronZPos_bt = bathtubTrap.GetZPosTime(timeArray, electron.GetSpeed(),\n",
    "                                          pitchAngleInit)\n",
    "# For each point, calculate the signal arrival time\n",
    "arrivalTimes_bt = timeArray + abs(zR - electronZPos_bt) / sc.c"
   ]
  },
  {
   "cell_type": "code",
   "execution_count": null,
   "metadata": {},
   "outputs": [],
   "source": [
    "plt.figure()\n",
    "plt.plot(arrivalTimes_bt * 1e6, (arrivalTimes_bt - timeArray) * 1e9, 'o')\n",
    "plt.title(\"Bathtub trap\")\n",
    "plt.xlabel(\"$t_{receive}$ [$\\mu$s]\")\n",
    "plt.ylabel(\"$t_{receive} - t_{emit}$ [ns]\")\n",
    "\n",
    "def DeltaTBathtub(x, A0, A1, A2, omega_a, t1, yOffset):\n",
    "    t2 = t1 + np.pi / omega_a\n",
    "    t3 = t1 + t2\n",
    "    T = 2 * t2\n",
    "\n",
    "    # Calculate the time modulo the axial period\n",
    "    tMod = x % T\n",
    "    conditions = [tMod < t1, (tMod > t1) & (tMod < t2),\n",
    "                  (tMod > t2) & (tMod < t3), tMod > t3]\n",
    "    choices = [A0 * tMod - A1 / 2,\n",
    "               A2 * np.sin(omega_a * (tMod - t1)) + A1 / 2,\n",
    "               -A0 * (tMod - t2) + A1 / 2, \n",
    "               -A2 * np.sin(omega_a * (tMod - t3)) - A1 / 2]\n",
    "    return np.select(conditions, choices, default=0.0) + yOffset\n",
    "\n",
    "# Fit the function to the bathtub trap data\n",
    "wa = electron.GetSpeed() * np.sin(pitchAngleInit) / L0_bt\n",
    "A0Guess = electron.GetSpeed() * np.cos(pitchAngleInit) / sc.c\n",
    "A1Guess = L1_bt / 2 / sc.c\n",
    "A2Guess = bathtubTrap.CalcZMax(pitchAngleInit) / sc.c\n",
    "y0Guess = abs(zR) / sc.c\n",
    "t1Guess = L1_bt / (electron.GetSpeed() * np.cos(pitchAngleInit))\n",
    "initialGuesses = [A0Guess, A1Guess, A2Guess, wa, t1Guess, y0Guess]\n",
    "popt, pcov = curve_fit(DeltaTBathtub, arrivalTimes_bt, arrivalTimes_bt - timeArray,\n",
    "                       p0=initialGuesses)\n",
    "plt.plot(arrivalTimes_bt * 1e6, DeltaTBathtub(arrivalTimes_bt, *popt) * 1e9, 'r--')\n",
    "plt.ylim(0.15, 0.6)\n",
    "# Draw the fit parameters on the plot\n",
    "plt.text(0.0, 0.57, f\"$A_0 = {popt[0]:.4f}$\")\n",
    "plt.text(0.15, 0.57, f\"$A_1 = {popt[1]:.3e}$\")\n",
    "plt.text(0.3, 0.57, f\"$A_2 = {popt[2]:.4e}$\")\n",
    "plt.text(0.0, 0.54, f\"$\\omega_a = {popt[3]:.3e}$\")\n",
    "plt.text(0.15, 0.54, f\"$t_1 = {popt[4] * 1e9:.3f}$ ns\")\n",
    "plt.text(0.3, 0.54, f\"$y_0 = {popt[5] * 1e9:.3f}$ ns\")\n",
    "\n",
    "plt.show()"
   ]
  },
  {
   "cell_type": "markdown",
   "metadata": {},
   "source": [
    "### Now move the receiver position"
   ]
  },
  {
   "cell_type": "code",
   "execution_count": null,
   "metadata": {},
   "outputs": [],
   "source": [
    "plt.figure(figsize=(18, 10))\n",
    "for iAng, ang in enumerate(receiverAngles):\n",
    "    rAngPosition = zR * np.array([np.sin(ang), 0.0, np.cos(ang)])\n",
    "    aTimesAng = np.zeros_like(timeArray)\n",
    "    for it, t in enumerate(timeArray):\n",
    "        electronPos = np.array([0, 0, \n",
    "                                bathtubTrap.GetZPosTime(t, electron.GetSpeed(), \n",
    "                                                        pitchAngleInit)])\n",
    "        aTimesAng[it] = t + np.linalg.norm(rAngPosition - electronPos) / sc.c\n",
    "\n",
    "    plt.subplot(2, 3, iAng + 1)\n",
    "    plt.plot(aTimesAng * 1e6, (aTimesAng - timeArray) * 1e9, 'o',\n",
    "             label=f\"{ang * 180 / np.pi:.1f}^\\circ\")\n",
    "    plt.title(f\"Bathtub trap: $\\\\theta_r = {ang * 180 / np.pi:.1f}^\\circ$\")\n",
    "    plt.xlabel(\"$t_{receive}$ [$\\mu$s]\")\n",
    "    plt.ylabel(\"$t_{receive} - t_{emit}$ [ns]\")\n",
    "\n",
    "    y0Guess = abs(zR) / sc.c\n",
    "    if ang == np.pi / 2:\n",
    "        wa = 2 * electron.GetSpeed() * np.sin(pitchAngleInit) / L0_bt\n",
    "    else:\n",
    "        wa = electron.GetSpeed() * np.sin(pitchAngleInit) / L0_bt\n",
    "        \n",
    "    initialGuesses = [A0Guess, A1Guess, A2Guess, wa, t1Guess, y0Guess]\n",
    "    popt, pcov = curve_fit(DeltaTBathtub, aTimesAng, aTimesAng - timeArray,\n",
    "                           p0=initialGuesses)\n",
    "    # Draw the fit        \n",
    "    fitTimes = DeltaTBathtub(aTimesAng, *popt)\n",
    "    plt.plot(aTimesAng * 1e6, fitTimes * 1e9, 'r--')\n",
    "    # Draw the fit parameters on each plote\n",
    "    plt.ylim(0.15, 0.6)\n",
    "    plt.text(0.0, 0.57, f\"$A_0 = {popt[0]:.4f}$\")\n",
    "    plt.text(0.15, 0.57, f\"$A_1 = {popt[1]:.2e}$\")\n",
    "    plt.text(0.3, 0.57, f\"$A_2 = {popt[2]:.4e}$\")\n",
    "    plt.text(0.0, 0.54, f\"$\\omega_a = {popt[3]:.2e}$\")\n",
    "    plt.text(0.15, 0.54, f\"$t_1 = {popt[4] * 1e9:.2f}$ ns\")\n",
    "    plt.text(0.3, 0.54, f\"$y_0 = {popt[5] * 1e9:.3f}$ ns\")\n",
    "\n",
    "plt.show()"
   ]
  },
  {
   "cell_type": "code",
   "execution_count": null,
   "metadata": {},
   "outputs": [],
   "source": []
  }
 ],
 "metadata": {
  "kernelspec": {
   "display_name": "Python 3",
   "language": "python",
   "name": "python3"
  },
  "language_info": {
   "codemirror_mode": {
    "name": "ipython",
    "version": 3
   },
   "file_extension": ".py",
   "mimetype": "text/x-python",
   "name": "python",
   "nbconvert_exporter": "python",
   "pygments_lexer": "ipython3",
   "version": "3.11.6"
  }
 },
 "nbformat": 4,
 "nbformat_minor": 2
}
